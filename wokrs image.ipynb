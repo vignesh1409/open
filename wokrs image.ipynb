{
 "cells": [
  {
   "cell_type": "code",
   "execution_count": null,
   "metadata": {},
   "outputs": [],
   "source": [
    "import cv2\n",
    "import numpy as np\n",
    "net=cv2.dnn.readNet(\"yolov3.weights\",\"yolov3.cfg\")\n",
    "classes=[]\n",
    "with open (\"coco.names\",'r') as f:\n",
    "    classes=[line.strip() for line in f.readlines()]\n",
    "layers_names=net.getLayerNames()\n",
    "outputlayers=[layers_names[i[0]-1] for i in net.getUnconnectedOutLayers()]\n",
    "img=cv2.imread(\"federer.jpg\")\n",
    "img=cv2.resize(img,None,fx=0.4,fy=0.4)\n",
    "blob=cv2.dnn.blobFromImage(img,0.00392,(416,416),(0,0,0),True,crop=False)#separetes into different colors\n",
    "height,width,channel=img.shape\n",
    "net.setInput(blob)\n",
    "outs=net.forward(outputlayers)\n",
    "boxes=[]\n",
    "confidences=[]\n",
    "class_ids=[]\n",
    "for out in outs:\n",
    "    for detection in out:\n",
    "        scores=detection[5:]\n",
    "        class_id=np.argmax(scores)\n",
    "        confidence=scores[class_id]\n",
    "        if confidence>0.4:\n",
    "            center_x=int(detection[0]*width)\n",
    "            center_y=int(detection[1]*height)\n",
    "            w=int(detection[2]*width)\n",
    "            h=int(detection[3]*height)\n",
    "            x=int(center_x-w/2)\n",
    "            y=int(center_y-h/2)\n",
    "            boxes.append([x,y,w,h])\n",
    "            confidences.append(float(confidence))\n",
    "            class_ids.append(class_id)\n",
    "#number_objects_detected=len(boxes)\n",
    "indexes=cv2.dnn.NMSBoxes(boxes,confidences,0.5,0.4)\n",
    "font=cv2.FONT_HERSHEY_PLAIN\n",
    "for i in range(len(boxes)):\n",
    "    if i in indexes:\n",
    "        x,y,w,h=boxes[i]\n",
    "        label=str(classes[class_ids[i]])\n",
    "        cv2.rectangle(img,(x,y),(x+w,y+h),(0,0,255),2)\n",
    "        cv2.putText(img,label,(x,y+30),font,3,(0,0,0),3)\n",
    "    \n",
    "    \n",
    "cv2.imshow(\"\",img)\n",
    "cv2.waitKey(0)\n",
    "cv2.destroyAllWindows()"
   ]
  }
 ],
 "metadata": {
  "kernelspec": {
   "display_name": "Python 3",
   "language": "python",
   "name": "python3"
  },
  "language_info": {
   "codemirror_mode": {
    "name": "ipython",
    "version": 3
   },
   "file_extension": ".py",
   "mimetype": "text/x-python",
   "name": "python",
   "nbconvert_exporter": "python",
   "pygments_lexer": "ipython3",
   "version": "3.7.6"
  }
 },
 "nbformat": 4,
 "nbformat_minor": 4
}
